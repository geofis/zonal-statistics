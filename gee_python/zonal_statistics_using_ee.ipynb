{
 "cells": [
  {
   "cell_type": "markdown",
   "id": "f18f57dc",
   "metadata": {},
   "source": [
    "# Zonal statistics using EarthEngine"
   ]
  },
  {
   "cell_type": "markdown",
   "id": "2c991215",
   "metadata": {},
   "source": [
    "## Directories names"
   ]
  },
  {
   "cell_type": "code",
   "execution_count": 2,
   "id": "45500477",
   "metadata": {},
   "outputs": [],
   "source": [
    "output_dir='out'\n",
    "zone_layers_dir='zone_layers'\n",
    "result_layers_dir='result_layers'"
   ]
  },
  {
   "cell_type": "markdown",
   "id": "bcc80a9d",
   "metadata": {},
   "source": [
    "## Earth Engine access"
   ]
  },
  {
   "cell_type": "code",
   "execution_count": 3,
   "id": "052a3657",
   "metadata": {},
   "outputs": [],
   "source": [
    "import ee\n",
    "import geemap\n",
    "\n",
    "#ee.Authenticate()\n",
    "ee.Initialize()"
   ]
  },
  {
   "cell_type": "markdown",
   "id": "98d8b4b6",
   "metadata": {},
   "source": [
    "## Sources"
   ]
  },
  {
   "cell_type": "code",
   "execution_count": 4,
   "id": "824aa2e7",
   "metadata": {
    "scrolled": false
   },
   "outputs": [
    {
     "data": {
      "application/vnd.jupyter.widget-view+json": {
       "model_id": "32955ae799f445e48c5f395355ecce10",
       "version_major": 2,
       "version_minor": 0
      },
      "text/plain": [
       "Map(center=[18.8, -70.5], controls=(WidgetControl(options=['position', 'transparent_bg'], widget=HBox(children…"
      ]
     },
     "execution_count": 4,
     "metadata": {},
     "output_type": "execute_result"
    }
   ],
   "source": [
    "Map = geemap.Map()\n",
    "Map.set_center(-70.5, 18.8, 8)\n",
    "Map"
   ]
  },
  {
   "cell_type": "markdown",
   "id": "51e2bd67",
   "metadata": {},
   "source": [
    "### Global Heterogeneity Habitat  (quantitative source)"
   ]
  },
  {
   "cell_type": "code",
   "execution_count": null,
   "id": "a23e56f9",
   "metadata": {},
   "outputs": [],
   "source": [
    "%%script false --no-raise-error\n",
    "global_path = 'projects/sat-io/open-datasets/'\n",
    "dataset = 'global_habitat_heterogeneity'\n",
    "layers = ['coefficient_of_variation_1km', 'contrast_1km', 'correlation_1km',\n",
    "          'dissimilarity_1km', 'entropy_1km', 'homogeneity_1km',\n",
    "          'maximum_1km', 'mean_1km', 'pielou_1km',\n",
    "          'range_1km', 'shannon_1km', 'simpson_1km',\n",
    "          'standard_deviation_1km', 'uniformity_1km', 'variance_1km']\n",
    "cov = ee.Image(global_path + dataset + '/' + layers[0])\n",
    "contrast = ee.Image(global_path + dataset + '/' + layers[1])\n",
    "corr = ee.Image(global_path + dataset + '/' + layers[2])\n",
    "dissimilarity = ee.Image(global_path + dataset + '/' + layers[3])\n",
    "entropy = ee.Image(global_path + dataset + '/' + layers[4])\n",
    "homogeneity = ee.Image(global_path + dataset + '/' + layers[5])\n",
    "maximum = ee.Image(global_path + dataset + '/' + layers[6])\n",
    "mean = ee.Image(global_path + dataset + '/' + layers[7])\n",
    "pielou = ee.Image(global_path + dataset + '/' + layers[8])\n",
    "range = ee.Image(global_path + dataset + '/' + layers[9])\n",
    "shannon = ee.Image(global_path + dataset + '/' + layers[10])\n",
    "simpson = ee.Image(global_path + dataset + '/' + layers[11])\n",
    "sd = ee.Image(global_path + dataset + '/' + layers[12])\n",
    "uniformity = ee.Image(global_path + dataset + '/' + layers[13])\n",
    "variance = ee.Image(global_path + dataset + '/' + layers[14])\n",
    "\n",
    "image = cov.addBands([contrast, corr, dissimilarity, entropy, homogeneity, maximum,\n",
    "                        mean, pielou, range, shannon, simpson, sd, uniformity, variance])\n",
    "image = image.select(image.bandNames().getInfo(), layers)\n",
    "# image.bandNames().getInfo()"
   ]
  },
  {
   "cell_type": "markdown",
   "id": "d6de9d2b",
   "metadata": {},
   "source": [
    "### Global SRTM Landforms (qualitative source)"
   ]
  },
  {
   "cell_type": "code",
   "execution_count": null,
   "id": "64c6850e",
   "metadata": {},
   "outputs": [],
   "source": [
    "%%script false --no-raise-error\n",
    "dataset = ee.Image('CSP/ERGo/1_0/Global/SRTM_landforms')\n",
    "landforms = dataset.select('constant')\n",
    "landformsVis = {\n",
    "  'min': 11.0,\n",
    "  'max': 42.0,\n",
    "  'palette': [\n",
    "    '141414', '383838', '808080', 'EBEB8F', 'F7D311', 'AA0000', 'D89382',\n",
    "    'DDC9C9', 'DCCDCE', '1C6330', '68AA63', 'B5C98E', 'E1F0E5', 'a975ba',\n",
    "    '6f198c'\n",
    "  ],\n",
    "}\n",
    "Map.setCenter(-71, 18.5, 8)\n",
    "Map.addLayer(landforms, landformsVis, 'Landforms')\n",
    "image=landforms"
   ]
  },
  {
   "cell_type": "markdown",
   "id": "b66fb543",
   "metadata": {},
   "source": [
    "### ESA WorldCover, 2020 10m v100 (qualitative source)"
   ]
  },
  {
   "cell_type": "code",
   "execution_count": null,
   "id": "887b707a",
   "metadata": {
    "scrolled": true
   },
   "outputs": [],
   "source": [
    "%%script false --no-raise-error\n",
    "### NOT USED ###\n",
    "dataset_psw = ee.ImageCollection('ESA/WorldCover/v100').first() \\\n",
    ".select('Map')\n",
    "Map.addLayer(dataset_psw, {}, 'ESA/WorldCover/v100')\n",
    "image = dataset_psw"
   ]
  },
  {
   "cell_type": "markdown",
   "id": "60018a4d",
   "metadata": {},
   "source": [
    "### ESA WorldCover, 2021,10m v200 (qualitative source)"
   ]
  },
  {
   "cell_type": "code",
   "execution_count": null,
   "id": "13e64ddb",
   "metadata": {
    "scrolled": true
   },
   "outputs": [],
   "source": [
    "%%script false --no-raise-error\n",
    "dataset_psw = ee.ImageCollection('ESA/WorldCover/v200').first() \\\n",
    ".select('Map')\n",
    "Map.addLayer(dataset_psw, {}, 'ESA/WorldCover/v200')\n",
    "image = dataset_psw"
   ]
  },
  {
   "cell_type": "markdown",
   "id": "82d9fab6",
   "metadata": {},
   "source": [
    "### Copernicus Global Land Cover Layers: CGLS-LC100 Collection 3 (qualitative source)"
   ]
  },
  {
   "cell_type": "code",
   "execution_count": null,
   "id": "6b3ff951",
   "metadata": {},
   "outputs": [],
   "source": [
    "%%script false --no-raise-error\n",
    "dataset = ee.Image(\"COPERNICUS/Landcover/100m/Proba-V-C3/Global/2019\") \\\n",
    ".select('discrete_classification')\n",
    "\n",
    "Map.setCenter(-71.6, 18, 7)\n",
    "\n",
    "Map.addLayer(dataset, {}, \"Land Cover\")\n",
    "image = dataset"
   ]
  },
  {
   "cell_type": "markdown",
   "id": "a786363d",
   "metadata": {},
   "source": [
    "### Worldclim BIO variables (quantitative source)"
   ]
  },
  {
   "cell_type": "code",
   "execution_count": null,
   "id": "05ea5b77",
   "metadata": {},
   "outputs": [],
   "source": [
    "%%script false --no-raise-error\n",
    "import pandas as pd\n",
    "wc_bands_names = pd.read_csv('out/result_layers/worldclim_v01_name_min_max_scale_description_equivalencies.csv')\n",
    "layers = wc_bands_names[['Name', 'Description']].apply(\" \".join, axis=1).tolist()\n",
    "dataset = ee.Image('WORLDCLIM/V1/BIO')\n",
    "image = dataset.select('bio01')\n",
    "\n",
    "def name_from_num(x):\n",
    "    name = 'bio' + str(x).zfill(2)\n",
    "    return(name)\n",
    "\n",
    "for i in range(2,20):\n",
    "    foo = dataset.select(name_from_num(i))\n",
    "    image = image.addBands(foo)\n",
    "image = image.select(image.bandNames().getInfo(), layers)\n",
    "# image.getInfo()"
   ]
  },
  {
   "cell_type": "markdown",
   "id": "77767c4f",
   "metadata": {},
   "source": [
    "### Geomorpho90m (quantitative variables)"
   ]
  },
  {
   "cell_type": "code",
   "execution_count": null,
   "id": "b6dc4366",
   "metadata": {},
   "outputs": [],
   "source": [
    "%%script false --no-raise-error\n",
    "vrm = ee.ImageCollection(\"projects/sat-io/open-datasets/Geomorpho90m/vrm\").median().reproject(crs='EPSG:4326', scale=90)\n",
    "roughness = ee.ImageCollection(\"projects/sat-io/open-datasets/Geomorpho90m/roughness\").median().reproject(crs='EPSG:4326', scale=90)\n",
    "tpi = ee.ImageCollection(\"projects/sat-io/open-datasets/Geomorpho90m/tpi\").median().reproject(crs='EPSG:4326', scale=90)\n",
    "spi = ee.ImageCollection(\"projects/sat-io/open-datasets/Geomorpho90m/spi\").median().reproject(crs='EPSG:4326', scale=90)\n",
    "cti = ee.ImageCollection(\"projects/sat-io/open-datasets/Geomorpho90m/cti\").median().reproject(crs='EPSG:4326', scale=90)\n",
    "tri = ee.ImageCollection(\"projects/sat-io/open-datasets/Geomorpho90m/tri\").median().reproject(crs='EPSG:4326', scale=90)\n",
    "slope = ee.ImageCollection(\"projects/sat-io/open-datasets/Geomorpho90m/slope\").median().reproject(crs='EPSG:4326', scale=90)\n",
    "image = vrm.addBands([roughness, tpi, spi, cti, tri, slope])\n",
    "layers = ['Vector Ruggedness Measure', 'Roughness', 'Topographic Position Index',\n",
    "          'Stream Power Index', 'Compound Topographic Index', 'Terrain Ruggedness Index', 'Slope']\n",
    "image = image.select(image.bandNames().getInfo(), layers)"
   ]
  },
  {
   "cell_type": "markdown",
   "id": "cc633502",
   "metadata": {},
   "source": [
    "### SRTM90 V4 elevation data"
   ]
  },
  {
   "cell_type": "code",
   "execution_count": null,
   "id": "95e35588",
   "metadata": {},
   "outputs": [],
   "source": [
    "%%script false --no-raise-error\n",
    "dataset = ee.Image('CGIAR/SRTM90_V4')\n",
    "image = dataset.select('elevation')\n",
    "image.rename('Elevation')\n",
    "# image.getInfo()"
   ]
  },
  {
   "cell_type": "markdown",
   "id": "0679a902",
   "metadata": {},
   "source": [
    "### Geomorphons"
   ]
  },
  {
   "cell_type": "code",
   "execution_count": null,
   "id": "3adc2900",
   "metadata": {},
   "outputs": [],
   "source": [
    "%%script false --no-raise-error\n",
    "image = ee.Image(\"projects/ee-geofis/assets/geomorphons\")\n",
    "Map.setCenter(-71, 17, 7)\n",
    "geomorphonsPalette = ['000000', 'dcdcdc', '380000', 'c80000', 'ff5014', 'fad23c', 'ffff3c',\n",
    "    'b4e614', '3cfa96', '0000ff', '000038']\n",
    "geomorphonsVis = {\n",
    "  \"min\": 0.0,\n",
    "  \"max\": 10.0,\n",
    "  \"palette\": geomorphonsPalette\n",
    "}\n",
    "# Map.addLayer(image, geomorphonsVis, 'Geomorphons')"
   ]
  },
  {
   "cell_type": "markdown",
   "id": "dbbf4de5",
   "metadata": {},
   "source": [
    "### CHELSA BIO variables (quantitative source)"
   ]
  },
  {
   "cell_type": "code",
   "execution_count": null,
   "id": "9a4a3afb",
   "metadata": {},
   "outputs": [],
   "source": [
    "%%script false --no-raise-error\n",
    "import pandas as pd\n",
    "\n",
    "global_path = 'projects/ee-geofis/assets/'\n",
    "dataset = 'chelsa-bio-1981-2010-v21'\n",
    "def name_from_num(x):\n",
    "    name = 'CHELSA_bio' + str(x).zfill(2) + '_1981-2010_V21'\n",
    "    return(name)\n",
    "chelsa_bio_names = pd.read_csv(output_dir + '/' + result_layers_dir + '/' + 'chelsa_v21_bio_variables.csv')\n",
    "layers = chelsa_bio_names[['shortname', 'longname']].apply(\" \".join, axis=1).tolist()\n",
    "image = ee.Image(global_path + dataset + '/' + name_from_num(1))\n",
    "for i in range(2,20):\n",
    "    foo = ee.Image(global_path + dataset + '/' + name_from_num(i))\n",
    "    image = image.addBands(foo)\n",
    "image = image.select(image.bandNames().getInfo(), layers)\n",
    "# image.getInfo()"
   ]
  },
  {
   "cell_type": "markdown",
   "id": "08485ebe",
   "metadata": {},
   "source": [
    "### Percent tree cover year 2000 (Hansen et al., 2013)"
   ]
  },
  {
   "cell_type": "code",
   "execution_count": null,
   "id": "b05f48d9",
   "metadata": {},
   "outputs": [],
   "source": [
    "%%script false --no-raise-error\n",
    "dataset = ee.Image('UMD/hansen/global_forest_change_2021_v1_9')\n",
    "image = dataset.select('treecover2000')\n",
    "treeCoverVisParam = {\n",
    "  'min': 0,\n",
    "  'max': 100,\n",
    "  'palette': ['black', 'green']\n",
    "}\n",
    "# Map.addLayer(image, treeCoverVisParam, 'tree cover')"
   ]
  },
  {
   "cell_type": "markdown",
   "id": "dfdc4d65",
   "metadata": {},
   "source": [
    "### Tree loss year (Hansen et al., 2013)"
   ]
  },
  {
   "cell_type": "code",
   "execution_count": null,
   "id": "dcf01d00",
   "metadata": {},
   "outputs": [],
   "source": [
    "%%script false --no-raise-error\n",
    "dataset = ee.Image('UMD/hansen/global_forest_change_2021_v1_9')\n",
    "image = dataset.select('lossyear')\n",
    "treeLossVisParam = {\n",
    "  'min': 0,\n",
    "  'max': 21,\n",
    "  'palette': ['yellow', 'red']\n",
    "}\n",
    "# Map.addLayer(image, treeLossVisParam, 'tree loss year')"
   ]
  },
  {
   "cell_type": "markdown",
   "id": "a70d71e2",
   "metadata": {},
   "source": [
    "### Distance to OSM roads"
   ]
  },
  {
   "cell_type": "code",
   "execution_count": null,
   "id": "fe090fdc",
   "metadata": {},
   "outputs": [],
   "source": [
    "%%script false --no-raise-error\n",
    "global_path = 'projects/ee-geofis/assets'\n",
    "asset = 'distance-to-osm-roads'\n",
    "image = ee.Image(global_path + '/' + asset)\n",
    "treeLossVisParam = {\n",
    "  'min': 0,\n",
    "  'max': 1500,\n",
    "  'palette': ['543005', '8C510A', 'BF812D', 'DFC27D', 'F6E8C3', 'F5F5F5',\n",
    "              'C7EAE5', '80CDC1', '35978F', '01665E', '003C30']\n",
    "}\n",
    "# Map.addLayer(image, treeLossVisParam, 'tree loss year')"
   ]
  },
  {
   "cell_type": "markdown",
   "id": "b34ca961",
   "metadata": {},
   "source": [
    "### WorldPop GP 100m Constrained UN adj"
   ]
  },
  {
   "cell_type": "code",
   "execution_count": null,
   "id": "f752ba8c",
   "metadata": {},
   "outputs": [],
   "source": [
    "%%script false --no-raise-error\n",
    "# dataset = ee.ImageCollection(\"WorldPop/GP/100m/pop\") # Unconstrained\n",
    "dataset = ee.ImageCollection(\"WorldPop/GP/100m/pop_age_sex_cons_unadj\") # Constrained UNadj\n",
    "image = dataset.filter(ee.Filter.inList('country', ['DOM'])).filter(ee.Filter.equals('year', 2020)).select('population').first()\n",
    "visualization = {\n",
    "  'bands': ['population'],\n",
    "  'min': 0.0,\n",
    "  'max': 50.0,\n",
    "  'palette': ['24126c', '1fff4f', 'd4ff50']\n",
    "}\n",
    "# Map.setCenter(-71.643, 17.769, 7)\n",
    "# Map.addLayer(dataset_2000, visualization, 'Population 2000')\n",
    "# Map.addLayer(dataset_2020, visualization, 'Population 2020')\n",
    "Map.addLayer(image, visualization, 'Population 2020')"
   ]
  },
  {
   "cell_type": "markdown",
   "id": "5798574c",
   "metadata": {},
   "source": [
    "### World Settlement Footprint"
   ]
  },
  {
   "cell_type": "code",
   "execution_count": null,
   "id": "7b0a72ca",
   "metadata": {},
   "outputs": [],
   "source": [
    "%%script false --no-raise-error\n",
    "# dataset = ee.ImageCollection(\"WorldPop/GP/100m/pop\") # Unconstrained\n",
    "image = ee.ImageCollection(\"projects/sat-io/open-datasets/WSF/WSF_2019\")\n",
    "# image = dataset.filter(ee.Filter.inList('country', ['DOM'])).filter(ee.Filter.equals('year', 2020)).select('population').first()\n",
    "# visualization = {\n",
    "#   'bands': ['population'],\n",
    "#   'min': 0.0,\n",
    "#   'max': 50.0,\n",
    "#   'palette': ['24126c', '1fff4f', 'd4ff50']\n",
    "# }\n",
    "Map.setCenter(-71.643, 17.769, 7)\n",
    "# Map.addLayer(dataset_2000, visualization, 'Population 2000')\n",
    "# Map.addLayer(dataset_2020, visualization, 'Population 2020')\n",
    "Map.addLayer(image.mosaic(),{'min':255,'max':255},'World Settlement Footprint 2019')"
   ]
  },
  {
   "cell_type": "markdown",
   "id": "ff741afd",
   "metadata": {},
   "source": [
    "### Yearly insolation time"
   ]
  },
  {
   "cell_type": "code",
   "execution_count": null,
   "id": "9295e939",
   "metadata": {},
   "outputs": [],
   "source": [
    "%%script false --no-raise-error\n",
    "image = ee.Image('projects/ee-geofis/assets/yearly-insol-time')\n",
    "image.rename('Yearly Insol. Time')\n",
    "yitPal = {\n",
    "  'min': 1800,\n",
    "  'max': 4500,\n",
    "  'palette': [\n",
    "    '#01FFFF', '#058BFF', '#0600FF', '#DF00FF', '#FF00FF', '#FF8C00', '#FF8C00'\n",
    "  ]\n",
    "};\n",
    "Map.addLayer(image, yitPal,'Yearly Insol. Time')\n",
    "# image.getInfo()"
   ]
  },
  {
   "cell_type": "markdown",
   "id": "60f332e4",
   "metadata": {},
   "source": [
    "### Distance to water bodies and wetlands"
   ]
  },
  {
   "cell_type": "code",
   "execution_count": null,
   "id": "0c27959f",
   "metadata": {},
   "outputs": [],
   "source": [
    "%%script false --no-raise-error\n",
    "# Define ROI as a bounding box of the Dominican Republic\n",
    "roi = ee.Geometry.Rectangle(-72.1, 17.448, -68.317, 19.932)\n",
    "\n",
    "# Load the ESA WORLCOVER v200 dataset:\n",
    "esa = ee.ImageCollection('ESA/WorldCover/v200').first().select('Map').clip(roi)\\\n",
    ".reproject(crs='EPSG:4326',scale=100)\n",
    "\n",
    "# Select land cover classes of interest\n",
    "permanent_w_b = esa.eq(80)\n",
    "# herbaceous_wetland = esa.eq(90)\n",
    "mangroves = esa.eq(95)\n",
    "moss_and_lichen = esa.eq(100)\n",
    "\n",
    "# Create binary mask\n",
    "# binary_mask = permanent_w_b.Or(herbaceous_wetland).Or(mangroves).Or(moss_and_lichen).selfMask()\n",
    "binary_mask = permanent_w_b.Or(mangroves).Or(moss_and_lichen).selfMask()\n",
    "\n",
    "# Calculate distance to binary mask\n",
    "kernel = ee.Kernel.euclidean(radius=25000, units='meters')\n",
    "image = binary_mask.distance(kernel, skipMasked=False).toInt()\n",
    "\n",
    "# Visualization palettes\n",
    "maskVis = {\n",
    "  'min': 0,\n",
    "  'max': 1,\n",
    "  'palette': ['black', 'red']\n",
    "}\n",
    "distVis = {\n",
    "  'min': 0,\n",
    "  'max': 100,\n",
    "  'palette': ['543005', '8C510A', 'BF812D', 'DFC27D', 'F6E8C3', 'F5F5F5',\n",
    "              'C7EAE5', '80CDC1', '35978F', '01665E', '003C30']\n",
    "}\n",
    "\n",
    "# Add to map\n",
    "Map.addLayer(binary_mask, maskVis, 'WB & W binary mask')\n",
    "Map.addLayer(image, distVis, 'Distance to WB & W')"
   ]
  },
  {
   "cell_type": "code",
   "execution_count": null,
   "id": "20b9de7c",
   "metadata": {},
   "outputs": [],
   "source": [
    "%%script false --no-raise-error\n",
    "task_config = {\n",
    "#     'image': binary_mask,\n",
    "    'image': image,\n",
    "    'description': 'imageToDriveExample',\n",
    "#     'scale': 100,  \n",
    "    'region': roi,\n",
    "    'maxPixels': 1e11\n",
    "    }\n",
    "task = ee.batch.Export.image.toDrive(**task_config)\n",
    "task.start()"
   ]
  },
  {
   "cell_type": "code",
   "execution_count": null,
   "id": "e292bc03",
   "metadata": {},
   "outputs": [],
   "source": [
    "%%script false --no-raise-error\n",
    "print(task.status())"
   ]
  },
  {
   "cell_type": "code",
   "execution_count": null,
   "id": "f44e0d26",
   "metadata": {},
   "outputs": [],
   "source": [
    "%%script false --no-raise-error\n",
    "# How to export an image using ee geemap\n",
    "roi = Map.user_roi #roi defined in map widget \n",
    "image_clip = image.clip(roi)\n",
    "geemap.ee_export_image(image_clip,\n",
    "                       filename=output_dir + '/' + result_layers_dir + '/' + 'archivo.tif',\n",
    "                       region=roi, file_per_band=False)"
   ]
  },
  {
   "cell_type": "markdown",
   "id": "95d38177",
   "metadata": {},
   "source": [
    "### Temperature seasonality, standard deviation (Izzo et al.)"
   ]
  },
  {
   "cell_type": "code",
   "execution_count": null,
   "id": "83b8b319",
   "metadata": {},
   "outputs": [],
   "source": [
    "image = ee.Image(\"projects/ee-geofis/assets/Izzo-temp-stdev\")\n",
    "\n",
    "imageVis = {\n",
    "  'min': 0.5,\n",
    "  'max': 1.9,\n",
    "  'palette': ['543005', '8C510A', 'BF812D', 'DFC27D', 'F6E8C3', 'F5F5F5', 'C7EAE5', '80CDC1', '35978F', '01665E', '003C30']\n",
    "#  palette: ['a6611a', 'dfc27d', '80cdc1', '018571']\n",
    "}\n",
    "Map.addLayer(image, imageVis, 'Temperature St. Dev.')\n"
   ]
  },
  {
   "cell_type": "markdown",
   "id": "29c3f3cb",
   "metadata": {},
   "source": [
    "### Precipitation seasonality, cv (Izzo et al.)"
   ]
  },
  {
   "cell_type": "code",
   "execution_count": null,
   "id": "65754088",
   "metadata": {},
   "outputs": [],
   "source": [
    "image = ee.Image(\"projects/ee-geofis/assets/Izzo-prec-cv\")\n",
    "\n",
    "imageVis = {\n",
    "  'min': 20,\n",
    "  'max': 90,\n",
    "  'palette': ['543005', '8C510A', 'BF812D', 'DFC27D', 'F6E8C3', 'F5F5F5', 'C7EAE5', '80CDC1', '35978F', '01665E', '003C30']\n",
    "#  palette: ['a6611a', 'dfc27d', '80cdc1', '018571']\n",
    "}\n",
    "Map.addLayer(image, imageVis, 'Precipitation CV')\n"
   ]
  },
  {
   "cell_type": "markdown",
   "id": "22865e98",
   "metadata": {},
   "source": [
    "## Crear índice espacial"
   ]
  },
  {
   "cell_type": "code",
   "execution_count": null,
   "id": "de9f61e0",
   "metadata": {},
   "outputs": [],
   "source": [
    "import geopandas as gpd\n",
    "from tobler.util import h3fy\n",
    "\n",
    "resolution = 7 #Values between 4 and 7 are OK. When using 7, split the hexgrid to use in EE in groups of less than 5001\n",
    "gdf = gpd.read_file('../inst/extdata/dr.gpkg', layer='pais')\n",
    "# hexgrid_do = gpd.read_file('../inst/extdata/dr.gpkg', layer='provincias')\n",
    "hexgrid_file_path = output_dir + '/' + zone_layers_dir + '/' + 'hexgrid_do_res_' + str(resolution) + '.gpkg'\n",
    "hexgrid_do = h3fy(gdf, resolution=resolution, buffer=True)\n",
    "hexgrid_do.to_file(filename=hexgrid_file_path, driver='GPKG') # This step (create->export->import) for having hex_id field as part of the GeoJSON that will be uploaded into EE in the next cells\n",
    "hexgrid_do = gpd.read_file(hexgrid_file_path) # Reading the file back again\n",
    "hexgrid_do.plot()\n",
    "hexgrid_do.count()"
   ]
  },
  {
   "cell_type": "markdown",
   "id": "534dc93f",
   "metadata": {},
   "source": [
    "## Zonal statistics"
   ]
  },
  {
   "cell_type": "markdown",
   "id": "7c6f5f2d",
   "metadata": {},
   "source": [
    "### Step 1. Convert the hexagon into Earth Engine geometry"
   ]
  },
  {
   "cell_type": "code",
   "execution_count": null,
   "id": "78de89fe",
   "metadata": {},
   "outputs": [],
   "source": [
    "import ee\n",
    "import json\n",
    "\n",
    "# hexgrid_do_geojson = hexgrid_do.to_json()\n",
    "# hexgrid_do_geojson = hexgrid_do[0:5000].to_json()\n",
    "# hexgrid_do_geojson = hexgrid_do[5000:10000].to_json()\n",
    "hexgrid_do_geojson = hexgrid_do[10000:].to_json()\n",
    "hexgrid_do_geojson\n",
    "features = ee.FeatureCollection(json.loads(hexgrid_do_geojson), opt_column=id)\n",
    "# features.getInfo()"
   ]
  },
  {
   "cell_type": "markdown",
   "id": "17f67c8b",
   "metadata": {},
   "source": [
    "### Step 2. Actually calculate the zonal statistics for each zone forming the feature collection"
   ]
  },
  {
   "cell_type": "markdown",
   "id": "969c9f3c",
   "metadata": {},
   "source": [
    "#### Quantitative source value layers"
   ]
  },
  {
   "cell_type": "code",
   "execution_count": null,
   "id": "0776cce1",
   "metadata": {},
   "outputs": [],
   "source": [
    "# %%script false --no-raise-error\n",
    "import geopandas as gpd\n",
    "\n",
    "# Default Reducer\n",
    "zone_stats = image.reduceRegions(collection=features, reducer=ee.Reducer.mean(), scale=image.projection().nominalScale(), tileScale=1).getInfo()\n",
    "\n",
    "# Reducer with multiband stack with different projections\n",
    "# zone_stats = image.reduceRegions(collection=features, reducer=ee.Reducer.mean(), scale=image.select(0).projection().nominalScale(), tileScale=1).getInfo()\n",
    "\n",
    "# Reducr using SUM\n",
    "# zone_stats = image.reduceRegions(collection=features, reducer=ee.Reducer.sum(), scale=image.projection().nominalScale(), tileScale=1).getInfo()\n",
    "\n",
    "#Convert to GDF\n",
    "zone_stats = gpd.GeoDataFrame.from_features(zone_stats, crs='epsg:4326')\n",
    "# zone_stats.fillna(0, inplace=True) #BE CAREFUL!! THIS ONLY MAKES SENSE WHEN NA MEANS ZERO\n",
    "zone_stats"
   ]
  },
  {
   "cell_type": "markdown",
   "id": "c2f2379c",
   "metadata": {},
   "source": [
    "#### Qualitative source value layers (check R script+functions to deal with nested dictionaries)"
   ]
  },
  {
   "cell_type": "code",
   "execution_count": null,
   "id": "ea6c4038",
   "metadata": {},
   "outputs": [],
   "source": [
    "%%script false --no-raise-error\n",
    "import geopandas as gpd\n",
    "zone_stats = image.reduceRegions(collection=features, reducer=ee.Reducer.frequencyHistogram(), scale=image.projection().nominalScale(), tileScale=1).getInfo()\n",
    "zone_stats = gpd.GeoDataFrame.from_features(zone_stats, crs='epsg:4326')\n",
    "zone_stats"
   ]
  },
  {
   "cell_type": "code",
   "execution_count": null,
   "id": "69e6135e",
   "metadata": {},
   "outputs": [],
   "source": [
    "%%script false --no-raise-error\n",
    "import pandas as pd\n",
    "zone_stats['histogram'].apply(pd.Series)"
   ]
  },
  {
   "cell_type": "markdown",
   "id": "4d7996f3",
   "metadata": {},
   "source": [
    "### Step 3. Save the gpd to a GeoPackage format file"
   ]
  },
  {
   "cell_type": "code",
   "execution_count": null,
   "id": "19437209",
   "metadata": {},
   "outputs": [],
   "source": [
    "%%script false --no-raise-error\n",
    "zone_stats.to_file(filename=output_dir + '/' + result_layers_dir + '/' + 'global_habitat_heterogeneity_res_' +\n",
    "                   str(resolution) + '.gpkg', driver='GPKG', layer='zonal_stats_result')"
   ]
  },
  {
   "cell_type": "code",
   "execution_count": null,
   "id": "660d0eb1",
   "metadata": {},
   "outputs": [],
   "source": [
    "%%script false --no-raise-error\n",
    "zone_stats.to_file(filename=output_dir + '/' + result_layers_dir + '/' + 'global_srtm_landforms_res_' +\n",
    "                   str(resolution) + '.gpkg',\n",
    "                   driver='GPKG', layer='zonal_stats_result')"
   ]
  },
  {
   "cell_type": "code",
   "execution_count": null,
   "id": "2ff6580f",
   "metadata": {},
   "outputs": [],
   "source": [
    "%%script false --no-raise-error\n",
    "zone_stats.to_file(filename=output_dir + '/' + result_layers_dir + '/' + 'esa_worldcover_10m_v200_res_' +\n",
    "                   str(resolution) + '.gpkg', driver='GPKG', layer='landcover')"
   ]
  },
  {
   "cell_type": "code",
   "execution_count": null,
   "id": "0cd1690f",
   "metadata": {},
   "outputs": [],
   "source": [
    "%%script false --no-raise-error\n",
    "zone_stats.to_file(filename=output_dir + '/' + result_layers_dir + '/' + 'copernicus_global_landcover_100m_res_' +\n",
    "                   str(resolution) + '.gpkg', driver='GPKG', layer='landcover')"
   ]
  },
  {
   "cell_type": "code",
   "execution_count": null,
   "id": "ac79c65a",
   "metadata": {},
   "outputs": [],
   "source": [
    "%%script false --no-raise-error\n",
    "zone_stats.to_file(filename=output_dir + '/' + result_layers_dir + '/' + 'worldclim_v1_bio_variables_res_' +\n",
    "                   str(resolution) + '.gpkg', driver='GPKG', layer='zonal_stats_result')"
   ]
  },
  {
   "cell_type": "code",
   "execution_count": null,
   "id": "abd92215",
   "metadata": {},
   "outputs": [],
   "source": [
    "%%script false --no-raise-error\n",
    "zone_stats.to_file(filename=output_dir + '/' + result_layers_dir + '/' + 'geomorpho90m_res_' +\n",
    "                   str(resolution) + '.gpkg', driver='GPKG', layer='zonal_stats_result')"
   ]
  },
  {
   "cell_type": "code",
   "execution_count": null,
   "id": "52793f32",
   "metadata": {},
   "outputs": [],
   "source": [
    "%%script false --no-raise-error\n",
    "zone_stats.to_file(filename=output_dir + '/' + result_layers_dir + '/' + 'cgiar_elevation_srtm90v4_res_' +\n",
    "                   str(resolution) + '.gpkg', driver='GPKG', layer='zonal_stats_result')"
   ]
  },
  {
   "cell_type": "code",
   "execution_count": null,
   "id": "29ff13cc",
   "metadata": {},
   "outputs": [],
   "source": [
    "%%script false --no-raise-error\n",
    "zone_stats.to_file(filename=output_dir + '/' + result_layers_dir + '/' + 'geomorpho90m_geomorphons_res_' +\n",
    "                   str(resolution) + '.gpkg', driver='GPKG', layer='zonal_stats_result')\n",
    "# zone_stats.to_file(filename=output_dir + '/' + result_layers_dir + '/' + 'geomorpho90m_geomorphons_prov_res_1.gpkg', driver='GPKG', layer='zonal_stats_result')"
   ]
  },
  {
   "cell_type": "code",
   "execution_count": null,
   "id": "e8ebc237",
   "metadata": {},
   "outputs": [],
   "source": [
    "%%script false --no-raise-error\n",
    "zone_stats.to_file(filename=output_dir + '/' + result_layers_dir + '/' + 'chelsa_v21_bio_variables_res_' +\n",
    "                   str(resolution) + '.gpkg', driver='GPKG', layer='zonal_stats_result')"
   ]
  },
  {
   "cell_type": "code",
   "execution_count": null,
   "id": "4e101fc6",
   "metadata": {},
   "outputs": [],
   "source": [
    "%%script false --no-raise-error\n",
    "zone_stats.to_file(filename=output_dir + '/' + result_layers_dir + '/' + 'hansen_gfc_v19_ptc_y2000_res_' +\n",
    "                   str(resolution) + '.gpkg', driver='GPKG', layer='zonal_stats_result')"
   ]
  },
  {
   "cell_type": "code",
   "execution_count": null,
   "id": "32601544",
   "metadata": {},
   "outputs": [],
   "source": [
    "%%script false --no-raise-error\n",
    "zone_stats.to_file(filename=output_dir + '/' + result_layers_dir + '/' + 'hansen_gfc_v19_ly_res_' +\n",
    "                   str(resolution) + '.gpkg', driver='GPKG', layer='zonal_stats_result')"
   ]
  },
  {
   "cell_type": "code",
   "execution_count": null,
   "id": "8d6e1309",
   "metadata": {},
   "outputs": [],
   "source": [
    "%%script false --no-raise-error\n",
    "zone_stats.to_file(filename=output_dir + '/' + result_layers_dir + '/' + 'distance_to_osm_roads_res_' +\n",
    "                   str(resolution) + '.gpkg', driver='GPKG', layer='zonal_stats_result')"
   ]
  },
  {
   "cell_type": "code",
   "execution_count": null,
   "id": "259c44e5",
   "metadata": {},
   "outputs": [],
   "source": [
    "%%script false --no-raise-error\n",
    "zone_stats.to_file(filename=output_dir + '/' + result_layers_dir + '/' + 'worldpop_gp_constrained_unadj_2020_3_res_' +\n",
    "                   str(resolution) + '.gpkg', driver='GPKG', layer='zonal_stats_result')"
   ]
  },
  {
   "cell_type": "code",
   "execution_count": null,
   "id": "f1ddfdea",
   "metadata": {},
   "outputs": [],
   "source": [
    "%%script false --no-raise-error\n",
    "zone_stats.to_file(filename=output_dir + '/' + result_layers_dir + '/' + 'yearly_insolation_time_3_res_' +\n",
    "                   str(resolution) + '.gpkg', driver='GPKG', layer='zonal_stats_result')"
   ]
  },
  {
   "cell_type": "code",
   "execution_count": null,
   "id": "0bb3c43a",
   "metadata": {},
   "outputs": [],
   "source": [
    "%%script false --no-raise-error\n",
    "zone_stats.to_file(filename=output_dir + '/' + result_layers_dir + '/' + 'distance_to_water_bodies_wetlands_3_res_' +\n",
    "                   str(resolution) + '.gpkg', driver='GPKG', layer='zonal_stats_result')"
   ]
  },
  {
   "cell_type": "code",
   "execution_count": null,
   "id": "edd65a41",
   "metadata": {},
   "outputs": [],
   "source": [
    "%%script false --no-raise-error\n",
    "zone_stats.to_file(filename=output_dir + '/' + result_layers_dir + '/' + 'temperature_stdev_seasonality_3_res_' +\n",
    "                   str(resolution) + '.gpkg', driver='GPKG', layer='zonal_stats_result')"
   ]
  },
  {
   "cell_type": "code",
   "execution_count": null,
   "id": "fc0b734f",
   "metadata": {},
   "outputs": [],
   "source": [
    "# %%script false --no-raise-error\n",
    "zone_stats.to_file(filename=output_dir + '/' + result_layers_dir + '/' + 'precipitation_cv_seasonality_3_res_' +\n",
    "                   str(resolution) + '.gpkg', driver='GPKG', layer='zonal_stats_result')"
   ]
  },
  {
   "cell_type": "markdown",
   "id": "d791a3bb",
   "metadata": {},
   "source": [
    "## Plot the result"
   ]
  },
  {
   "cell_type": "markdown",
   "id": "fef50a2e",
   "metadata": {},
   "source": [
    "### Static map"
   ]
  },
  {
   "cell_type": "code",
   "execution_count": null,
   "id": "2b92e475",
   "metadata": {
    "scrolled": true
   },
   "outputs": [],
   "source": [
    "import matplotlib.pyplot as plt\n",
    "from mpl_toolkits.axes_grid1 import make_axes_locatable\n",
    "\n",
    "fig, ax = plt.subplots(figsize=(30,26))\n",
    "\n",
    "# Define the legend axis\n",
    "divider = make_axes_locatable(ax)\n",
    "cax = divider.append_axes(\"right\", size=\"5%\", pad=0.1)\n",
    "\n",
    "# Plot the U.S. map with hexagons, where the colour represents the mean air temperature\n",
    "zone_stats.plot(column='shannon_1km', ax=ax, cmap='OrRd', legend=True, cax=cax)\n",
    "\n",
    "# Customise the legend\n",
    "cax.minorticks_on()\n",
    "cax.tick_params(which='major', direction='in', length=18, width=2, labelsize=24)\n",
    "cax.tick_params(which='minor', direction='in', length=12, width=2, labelsize=24)\n",
    "cax.set_title('Shannon, 1km', fontsize=24)\n",
    "\n",
    "# Turn the x-axis and y-axis off\n",
    "ax.set_axis_off()"
   ]
  },
  {
   "cell_type": "markdown",
   "id": "4d896fc0",
   "metadata": {},
   "source": [
    "### Interactive map"
   ]
  },
  {
   "cell_type": "code",
   "execution_count": null,
   "id": "685f98a7",
   "metadata": {},
   "outputs": [],
   "source": [
    "import matplotlib\n",
    "import mapclassify\n",
    "import folium\n",
    "\n",
    "int_map = zone_stats[['geometry', 'hex_id', 'shannon_1km']].explore(\n",
    "    column='shannon_1km', name='Shannon, 1km', cmap='OrRd',\n",
    "    style_kwds={'opacity':0.4, 'color':'black', 'opacity':0.2},\n",
    "    highlight_kwds={'fillOpacity':1},\n",
    "    tooltip_kwds={'aliases':['Hex ID', 'Shannon, 1km']},\n",
    "    legend_kwds={'caption':'Shannon, 1km'})\n",
    "\n",
    "# Add layer control to the map\n",
    "folium.TileLayer('cartodbdark_matter',overlay=True,name=\"View in Dark Mode\").add_to(int_map)\n",
    "folium.TileLayer('cartodbpositron',overlay=True,name=\"View in Light Mode\").add_to(int_map)\n",
    "folium.LayerControl(collapsed=False).add_to(int_map)\n",
    "\n",
    "int_map"
   ]
  }
 ],
 "metadata": {
  "kernelspec": {
   "display_name": "Python 3 (ipykernel)",
   "language": "python",
   "name": "python3"
  },
  "language_info": {
   "codemirror_mode": {
    "name": "ipython",
    "version": 3
   },
   "file_extension": ".py",
   "mimetype": "text/x-python",
   "name": "python",
   "nbconvert_exporter": "python",
   "pygments_lexer": "ipython3",
   "version": "3.8.10"
  }
 },
 "nbformat": 4,
 "nbformat_minor": 5
}
